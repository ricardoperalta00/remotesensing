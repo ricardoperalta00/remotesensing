{
 "cells": [
  {
   "cell_type": "code",
   "execution_count": 1,
   "id": "f108bc9e",
   "metadata": {},
   "outputs": [],
   "source": [
    "import cv2\n",
    "import matplotlib.pyplot as plt\n",
    "import numpy as np\n",
    "import math"
   ]
  },
  {
   "cell_type": "code",
   "execution_count": 2,
   "id": "935906ea",
   "metadata": {},
   "outputs": [
    {
     "data": {
      "text/plain": [
       "<matplotlib.image.AxesImage at 0x2488a825270>"
      ]
     },
     "execution_count": 2,
     "metadata": {},
     "output_type": "execute_result"
    },
    {
     "data": {
      "image/png": "[encoded data removed]",
      "text/plain": [
       "<Figure size 640x480 with 1 Axes>"
      ]
     },
     "metadata": {},
     "output_type": "display_data"
    }
   ],
   "source": [
    "#degradado img\n",
    "tam =5\n",
    "b1 = np.zeros([tam,tam,1],dtype=np.uint8)\n",
    "b2 = np.zeros([tam,tam,1],dtype=np.uint8)\n",
    "b3 = np.zeros([tam,tam,1],dtype = np.uint8)\n",
    "\n",
    "i=0\n",
    "while i<b1.shape[0]:\n",
    "    j=0\n",
    "    while j< b1.shape[1]:\n",
    "        b1[i,j]=j*20+i*30\n",
    "        b2[i,j]=j*12+i*40\n",
    "        b3[i,j]=j*15+1*10\n",
    "        j = j + 1\n",
    "    i = i+1\n",
    "img = cv2.merge((b1,b2,b3))\n",
    "\n",
    "\n",
    "plt.imshow(img)"
   ]
  },
  {
   "cell_type": "code",
   "execution_count": 4,
   "id": "e14f61ab",
   "metadata": {},
   "outputs": [
    {
     "data": {
      "text/plain": [
       "(5, 5, 3)"
      ]
     },
     "execution_count": 4,
     "metadata": {},
     "output_type": "execute_result"
    }
   ],
   "source": [
    "img.shape"
   ]
  },
  {
   "cell_type": "code",
   "execution_count": 5,
   "id": "ae2021cb",
   "metadata": {},
   "outputs": [],
   "source": [
    "def isodata (img,C):\n",
    "    v = np.zeros((C,img.shape[2]))\n",
    "    v2 = np.zeros((C,img.shape[2]))\n",
    "\n",
    "    v[0, :]= (30.,60.,30.)\n",
    "    v[1, :]= (60.,70.,30.)\n",
    "    v[2, :]= (20.,40.,20.)\n",
    "    v[3, :]= (100.,150.,40.)\n",
    "    v[4, :]= (50.,80.,40.)\n",
    "\n",
    "    resimg = np.ones((img.shape[0], img.shape[1]), dtype=int)\n",
    "    \n",
    "    while not (np.array_equal(v,v2)):\n",
    "      ##MODIFICACIÓN DE LA MATRIZ CON LAS CLASES\n",
    "        clase = 0\n",
    "        for k in list(range(img.shape[0])):\n",
    "            for j in list(range(img.shape[1])):\n",
    "                dist_min=1000000000\n",
    "                for i in list(range(C)):#var c\n",
    "                    dist=math.sqrt(sum(((v[i]-img[k][j])**2)))\n",
    "                    if dist<dist_min : \n",
    "                        dist_min=dist\n",
    "                        clase = i\n",
    "                resimg[k][j]=clase\n",
    "                \n",
    "      ##DICCIONARIO QUE VA SUMANDO POR CLASE Y POR R,G,B\n",
    "        dic={c:([0,0,0],0) for c in list(range(C))}\n",
    "        for k in list(range(resimg.shape[0])):\n",
    "            for j in list (range(resimg.shape[1])):\n",
    "                 for z in list(range(C)):\n",
    "                    if resimg[k][j]==z:\n",
    "                        dic[z] = ([dic[z][0][x]+img[k][j][x] for x in list(range(3))],dic[z][1]+1)\n",
    "                \n",
    "      ##ASIGNACIÓN DE NUEVOS CENTROS Y CAMBIAMOS V2 PARA MANTENER \n",
    "      ##CONDICIÓN DEL WHILE\n",
    "        v2=v.copy()\n",
    "        for i in (list(range(C))):\n",
    "            if dic[i][1]==0:\n",
    "                v[i,:]=[0.,0.,0.]\n",
    "            else:\n",
    "                v[i,:]=[(dic[i][0][j]/dic[i][1]) for j in range(len(dic[i][0]))]\n",
    "\n",
    "    return resimg\n",
    "            \n",
    "    "
   ]
  },
  {
   "cell_type": "code",
   "execution_count": 6,
   "id": "23c3266e",
   "metadata": {},
   "outputs": [],
   "source": [
    "r = isodata(img,5)"
   ]
  },
  {
   "cell_type": "code",
   "execution_count": 7,
   "id": "fac5e072",
   "metadata": {},
   "outputs": [],
   "source": [
    "def seudo (img):\n",
    "    resimg=np.zeros((img.shape[0],img.shape[1],3),np.uint8)\n",
    "    i=0\n",
    "    while i<img.shape[0]:\n",
    "        j=0\n",
    "        while j < img.shape[1]:\n",
    "            if img[i,j] == 0:\n",
    "                resimg[i,j,:]=[255,0,0]\n",
    "            elif img[i,j] == 1:\n",
    "                resimg[i,j,:] = [0,255,0]\n",
    "            elif img[i,j] == 2:\n",
    "                resimg[i,j,:] = [0,0,255]\n",
    "            elif img[i,j] == 3:\n",
    "                resimg[i,j,:] = [255,255,0]\n",
    "            elif img[i,j] == 4:\n",
    "                resimg[i,j,:] = [0,255,255]\n",
    "            elif img[i,j] == 5:\n",
    "                resimg[i,j,:] = [255,0,255]\n",
    "            else:\n",
    "                resimg[i,j,:] = [0,0,0]\n",
    "            j = j +1\n",
    "        i=i+1\n",
    "    return resimg\n",
    "            \n",
    "                "
   ]
  },
  {
   "cell_type": "code",
   "execution_count": 8,
   "id": "2e905c1f",
   "metadata": {},
   "outputs": [],
   "source": [
    "x = seudo(r)"
   ]
  },
  {
   "cell_type": "code",
   "execution_count": 9,
   "id": "a51cdba6",
   "metadata": {},
   "outputs": [
    {
     "data": {
      "text/plain": [
       "<matplotlib.image.AxesImage at 0x2488b054700>"
      ]
     },
     "execution_count": 9,
     "metadata": {},
     "output_type": "execute_result"
    },
    {
     "data": {
      "image/png": "[encoded data removed]",
      "text/plain": [
       "<Figure size 640x480 with 1 Axes>"
      ]
     },
     "metadata": {},
     "output_type": "display_data"
    }
   ],
   "source": [
    "plt.imshow(r)"
   ]
  },
  {
   "cell_type": "code",
   "execution_count": null,
   "id": "a6793748",
   "metadata": {},
   "outputs": [],
   "source": []
  }
 ],
 "metadata": {
  "kernelspec": {
   "display_name": "Python 3 (ipykernel)",
   "language": "python",
   "name": "python3"
  },
  "language_info": {
   "codemirror_mode": {
    "name": "ipython",
    "version": 3
   },
   "file_extension": ".py",
   "mimetype": "text/x-python",
   "name": "python",
   "nbconvert_exporter": "python",
   "pygments_lexer": "ipython3",
   "version": "3.10.4"
  }
 },
 "nbformat": 4,
 "nbformat_minor": 5
}
