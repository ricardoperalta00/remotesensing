{
 "cells": [
  {
   "cell_type": "code",
   "execution_count": 1,
   "id": "e7cbdf99",
   "metadata": {},
   "outputs": [],
   "source": [
    "import cv2\n",
    "import matplotlib.pyplot as plt\n",
    "import numpy as np"
   ]
  },
  {
   "cell_type": "code",
   "execution_count": 14,
   "id": "17747524",
   "metadata": {},
   "outputs": [],
   "source": [
    "def mascara (img,mask):\n",
    "    resimg=img.copy()\n",
    "    for i in range(img.shape[0]):\n",
    "        for j in range(img.shape[1]):\n",
    "            resimg[i][j]=mask[i][j]*img[i][j]\n",
    "            \n",
    "    return resimg"
   ]
  },
  {
   "cell_type": "code",
   "execution_count": 15,
   "id": "3e9ed5db",
   "metadata": {},
   "outputs": [],
   "source": [
    "img=np.array([[1,1,1,3],\n",
    "              [2,1,1,1],\n",
    "              [3,2,1,1],\n",
    "              [1,1,1,2]])"
   ]
  },
  {
   "cell_type": "code",
   "execution_count": 16,
   "id": "0fbcc5b0",
   "metadata": {},
   "outputs": [],
   "source": [
    "mask=np.array([[1,0,1,1],\n",
    "               [1,0,1,1],\n",
    "               [1,0,1,0],\n",
    "               [1,0,1,0],])"
   ]
  },
  {
   "cell_type": "code",
   "execution_count": 17,
   "id": "2f2061d1",
   "metadata": {},
   "outputs": [],
   "source": [
    "res=mascara(img,mask)"
   ]
  },
  {
   "cell_type": "code",
   "execution_count": 18,
   "id": "3de35c74",
   "metadata": {},
   "outputs": [
    {
     "data": {
      "text/plain": [
       "array([[1, 0, 1, 3],\n",
       "       [2, 0, 1, 1],\n",
       "       [3, 0, 1, 0],\n",
       "       [1, 0, 1, 0]])"
      ]
     },
     "execution_count": 18,
     "metadata": {},
     "output_type": "execute_result"
    }
   ],
   "source": [
    "res"
   ]
  },
  {
   "cell_type": "code",
   "execution_count": null,
   "id": "35e2402c",
   "metadata": {},
   "outputs": [],
   "source": []
  }
 ],
 "metadata": {
  "kernelspec": {
   "display_name": "Python 3 (ipykernel)",
   "language": "python",
   "name": "python3"
  },
  "language_info": {
   "codemirror_mode": {
    "name": "ipython",
    "version": 3
   },
   "file_extension": ".py",
   "mimetype": "text/x-python",
   "name": "python",
   "nbconvert_exporter": "python",
   "pygments_lexer": "ipython3",
   "version": "3.10.4"
  }
 },
 "nbformat": 4,
 "nbformat_minor": 5
}
