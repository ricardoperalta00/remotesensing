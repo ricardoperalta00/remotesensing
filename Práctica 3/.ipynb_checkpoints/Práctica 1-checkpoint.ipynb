{
 "cells": [
  {
   "cell_type": "code",
   "execution_count": 20,
   "id": "cf254034",
   "metadata": {},
   "outputs": [],
   "source": [
    "import numpy as np"
   ]
  },
  {
   "cell_type": "code",
   "execution_count": 21,
   "id": "112f2838",
   "metadata": {},
   "outputs": [],
   "source": [
    "img=np.array([\n",
    "            [12,14,17,24,32,30],\n",
    "            [19,18,17,26,36,40],\n",
    "            [26,21,17,28,40,42],\n",
    "            [20,19,18,26,33,35],\n",
    "            [14,17,20,23,27,20],\n",
    "            [35,14,22,13,40,21]\n",
    "    ])"
   ]
  },
  {
   "cell_type": "code",
   "execution_count": 39,
   "id": "3da0540b",
   "metadata": {},
   "outputs": [],
   "source": [
    "cf=np.array([\n",
    "    [1,1,1],\n",
    "    [1,2,1],\n",
    "    [1,1,1]\n",
    "])"
   ]
  },
  {
   "cell_type": "code",
   "execution_count": 41,
   "id": "4b193721",
   "metadata": {},
   "outputs": [],
   "source": [
    "def filtro(img,cf):\n",
    "    CFsum=sum(sum(cf))\n",
    "    resimg=img.copy()\n",
    "    ##Para poner los bordes a 0\n",
    "    resimg[0]=0\n",
    "    resimg[-1]=0\n",
    "    resimg[:,0]=0\n",
    "    resimg[:,-1]=0 \n",
    "    ## Este bucle es para ir mirando las submatrices, hago cf.shape[0]-1 para que podamos usar un filtro diferente a 3x3\n",
    "    ## si no colocaría -2 directamente que es lo mínimo para que no se salga del index\n",
    "    for i in range(img.shape[0]-cf.shape[0]-1):\n",
    "        for j in range(img.shape[1]-cf.shape[1]-1):\n",
    "            ##Con slice cogemos la submatriz la multiplicamos x el filtro y sumamos todo\n",
    "            ##finalmente sustituimos en resimg\n",
    "            val=round(sum(sum(img[i:i+3,j:j+3]*cf))/CFsum)\n",
    "            resimg[i+1,j+1]=val\n",
    "    return resimg\n",
    "    "
   ]
  },
  {
   "cell_type": "code",
   "execution_count": null,
   "id": "09b1467e",
   "metadata": {},
   "outputs": [],
   "source": [
    "##podemos ver que se ha aplicado el filtro correctamente"
   ]
  },
  {
   "cell_type": "code",
   "execution_count": 43,
   "id": "aa12858c",
   "metadata": {},
   "outputs": [
    {
     "data": {
      "text/plain": [
       "array([[ 0,  0,  0,  0,  0,  0],\n",
       "       [ 0, 18, 20, 26, 36,  0],\n",
       "       [ 0, 20, 21, 28, 40,  0],\n",
       "       [ 0, 19, 18, 26, 33,  0],\n",
       "       [ 0, 17, 20, 23, 27,  0],\n",
       "       [ 0,  0,  0,  0,  0,  0]])"
      ]
     },
     "execution_count": 43,
     "metadata": {},
     "output_type": "execute_result"
    }
   ],
   "source": [
    "filtro(img,cf)"
   ]
  },
  {
   "cell_type": "code",
   "execution_count": null,
   "id": "37a8c077",
   "metadata": {},
   "outputs": [],
   "source": []
  }
 ],
 "metadata": {
  "kernelspec": {
   "display_name": "Python 3 (ipykernel)",
   "language": "python",
   "name": "python3"
  },
  "language_info": {
   "codemirror_mode": {
    "name": "ipython",
    "version": 3
   },
   "file_extension": ".py",
   "mimetype": "text/x-python",
   "name": "python",
   "nbconvert_exporter": "python",
   "pygments_lexer": "ipython3",
   "version": "3.10.4"
  }
 },
 "nbformat": 4,
 "nbformat_minor": 5
}
